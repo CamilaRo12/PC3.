{
  "nbformat": 4,
  "nbformat_minor": 0,
  "metadata": {
    "colab": {
      "provenance": []
    },
    "kernelspec": {
      "name": "python3",
      "display_name": "Python 3"
    },
    "language_info": {
      "name": "python"
    }
  },
  "cells": [
    {
      "cell_type": "markdown",
      "source": [
        "Camila Rodríguez 20220827 - PC3"
      ],
      "metadata": {
        "id": "rg2oKwyvs0hE"
      }
    },
    {
      "cell_type": "markdown",
      "source": [
        "Paso 1: Integre los archivos que están en el folder comprimido"
      ],
      "metadata": {
        "id": "1gBwnX6es5jR"
      }
    },
    {
      "cell_type": "code",
      "execution_count": 5,
      "metadata": {
        "colab": {
          "base_uri": "https://localhost:8080/"
        },
        "id": "xbXwKjODxOXN",
        "outputId": "f9ae5c8a-b947-412a-d361-79f25010288b"
      },
      "outputs": [
        {
          "output_type": "execute_result",
          "data": {
            "text/plain": [
              "['level1.xlsx', 'level2.xlsx', 'level3.xlsx', 'level4.xlsx']"
            ]
          },
          "metadata": {},
          "execution_count": 5
        }
      ],
      "source": [
        "import pandas as pd\n",
        "\n",
        "#iniciamos colocando el link del repo\n",
        "Repo='https://github.com/CamilaRo12/PC3/raw/main/appendFiles/'\n",
        "\n",
        "nums=[1,2,3,4]\n",
        "archivos=['level'+str(num)+'.xlsx' for num in nums]\n",
        "#lista\n",
        "archivos"
      ]
    },
    {
      "cell_type": "code",
      "source": [
        "#creamos los links\n",
        "links=[Repo+fn for fn in archivos]\n",
        "links"
      ],
      "metadata": {
        "colab": {
          "base_uri": "https://localhost:8080/"
        },
        "id": "s68S0KZzsmXT",
        "outputId": "ee72345b-f957-4e18-e210-14e74b67499f"
      },
      "execution_count": 6,
      "outputs": [
        {
          "output_type": "execute_result",
          "data": {
            "text/plain": [
              "['https://github.com/CamilaRo12/PC3/raw/main/appendFiles/level1.xlsx',\n",
              " 'https://github.com/CamilaRo12/PC3/raw/main/appendFiles/level2.xlsx',\n",
              " 'https://github.com/CamilaRo12/PC3/raw/main/appendFiles/level3.xlsx',\n",
              " 'https://github.com/CamilaRo12/PC3/raw/main/appendFiles/level4.xlsx']"
            ]
          },
          "metadata": {},
          "execution_count": 6
        }
      ]
    },
    {
      "cell_type": "code",
      "source": [
        "DFs = []\n",
        "#como el nivel 1 tiene filas de inicio diferente a los demás, haremos el header para cada caso\n",
        "for i, link in enumerate(links):\n",
        "    if i == 0:  #solo para el nivel  1\n",
        "        df = pd.read_excel(link, header=4)\n",
        "    else:\n",
        "        df = pd.read_excel(link, header=0)  #para el resto de archivos\n",
        "    DFs.append(df)\n",
        "    print(f\"Datos cargados de level{nums[i]}:\\n\", df.head())"
      ],
      "metadata": {
        "colab": {
          "base_uri": "https://localhost:8080/"
        },
        "id": "bk_7m5hUy-8e",
        "outputId": "fed23e6a-89b2-4cf6-a668-d73311641fb3"
      },
      "execution_count": 24,
      "outputs": [
        {
          "output_type": "stream",
          "name": "stdout",
          "text": [
            "Datos cargados de level1:\n",
            "    HDI rank      Country Human Development Index (HDI)   Unnamed: 3  \\\n",
            "0       NaN          NaN                          Value         NaN   \n",
            "1       NaN          NaN                           2021         NaN   \n",
            "2       1.0  Switzerland                          0.962         NaN   \n",
            "3       2.0       Norway                          0.961         NaN   \n",
            "4       3.0      Iceland                          0.959         NaN   \n",
            "\n",
            "  Life expectancy at birth Unnamed: 5 Expected years of schooling Unnamed: 7  \\\n",
            "0                  (years)        NaN                     (years)        NaN   \n",
            "1                     2021        NaN                        2021          a   \n",
            "2                  83.9872        NaN                   16.500299        NaN   \n",
            "3                  83.2339        NaN                     18.1852          c   \n",
            "4                  82.6782        NaN                   19.163059          c   \n",
            "\n",
            "  Mean years of schooling Unnamed: 9 Gross national income (GNI) per capita  \\\n",
            "0                 (years)        NaN                           (2017 PPP $)   \n",
            "1                    2021          a                                   2021   \n",
            "2                13.85966        NaN                            66933.00454   \n",
            "3                13.00363        NaN                            64660.10622   \n",
            "4                13.76717        NaN                            55782.04981   \n",
            "\n",
            "  Unnamed: 11  GNI per capita rank minus HDI rank Unnamed: 13  HDI rank.1  \\\n",
            "0         NaN                                 NaN         NaN         NaN   \n",
            "1         NaN                              2021.0           b      2020.0   \n",
            "2         NaN                                 5.0         NaN         3.0   \n",
            "3         NaN                                 6.0         NaN         1.0   \n",
            "4         NaN                                11.0         NaN         2.0   \n",
            "\n",
            "                   Unnamed: 15  \n",
            "0                          NaN  \n",
            "1                          NaN  \n",
            "2  VERY HIGH HUMAN DEVELOPMENT  \n",
            "3  VERY HIGH HUMAN DEVELOPMENT  \n",
            "4  VERY HIGH HUMAN DEVELOPMENT  \n",
            "Datos cargados de level2:\n",
            "    HDI rank                 Country  Human Development Index (HDI)   \\\n",
            "0       NaN                     NaN                        2021.000   \n",
            "1       NaN  HIGH HUMAN DEVELOPMENT                             NaN   \n",
            "2      67.0                 Albania                           0.796   \n",
            "3      68.0                Bulgaria                           0.795   \n",
            "4      68.0                 Grenada                           0.795   \n",
            "\n",
            "   Life expectancy at birth  Expected years of schooling  \\\n",
            "0                 2021.0000                   2021.00000   \n",
            "1                       NaN                          NaN   \n",
            "2                   76.4626                     14.44800   \n",
            "3                   71.7980                     13.89729   \n",
            "4                   74.9362                     18.66202   \n",
            "\n",
            "   Mean years of schooling Unnamed: 6  Gross national income (GNI) per capita  \\\n",
            "0              2021.000000          a                              2021.00000   \n",
            "1                      NaN        NaN                                     NaN   \n",
            "2                11.286455          e                             14131.11039   \n",
            "3                11.413180        NaN                             23078.95595   \n",
            "4                 9.032104          l                             13483.57740   \n",
            "\n",
            "  Unnamed: 8  GNI per capita rank minus HDI rank Unnamed: 10  HDI rank.1  \n",
            "0        NaN                              2021.0           b      2020.0  \n",
            "1        NaN                                 NaN         NaN         NaN  \n",
            "2        NaN                                17.0         NaN        68.0  \n",
            "3        NaN                                -8.0         NaN        64.0  \n",
            "4        NaN                                18.0         NaN        70.0  \n",
            "Datos cargados de level3:\n",
            "    HDI rank                           Country  Human Development Index (HDI)   \\\n",
            "0       NaN                               NaN                        2021.000   \n",
            "1       NaN          MEDIUM HUMAN DEVELOPMENT                             NaN   \n",
            "2     116.0                       Philippines                           0.699   \n",
            "3     117.0                          Botswana                           0.693   \n",
            "4     118.0  Bolivia (Plurinational State of)                           0.692   \n",
            "\n",
            "   Unnamed: 3  Life expectancy at birth  Unnamed: 5  \\\n",
            "0         NaN                 2021.0000         NaN   \n",
            "1         NaN                       NaN         NaN   \n",
            "2         NaN                   69.2664         NaN   \n",
            "3         NaN                   61.1409         NaN   \n",
            "4         NaN                   63.6304         NaN   \n",
            "\n",
            "   Expected years of schooling Unnamed: 7  Mean years of schooling Unnamed: 9  \\\n",
            "0                  2021.000000          a               2021.00000          a   \n",
            "1                          NaN        NaN                      NaN        NaN   \n",
            "2                    13.126570        NaN                  8.96910        NaN   \n",
            "3                    12.265138          e                 10.34000        NaN   \n",
            "4                    14.946971        NaN                  9.82775        NaN   \n",
            "\n",
            "   Gross national income (GNI) per capita Unnamed: 11  \\\n",
            "0                             2021.000000         NaN   \n",
            "1                                     NaN         NaN   \n",
            "2                             8920.428468         NaN   \n",
            "3                            16198.318410         NaN   \n",
            "4                             8111.190194         NaN   \n",
            "\n",
            "   GNI per capita rank minus HDI rank Unnamed: 13  HDI rank.1  \n",
            "0                              2021.0           b      2020.0  \n",
            "1                                 NaN         NaN         NaN  \n",
            "2                                -3.0         NaN       113.0  \n",
            "3                               -43.0         NaN       110.0  \n",
            "4                                 0.0         NaN       119.0  \n",
            "Datos cargados de level4:\n",
            "    HDI rank                        Country             Unnamed: 2  \\\n",
            "0       160  Tanzania (United Republic of)  LOW HUMAN DEVELOPMENT   \n",
            "1       161                       Pakistan  LOW HUMAN DEVELOPMENT   \n",
            "2       162                           Togo  LOW HUMAN DEVELOPMENT   \n",
            "3       163                          Haiti  LOW HUMAN DEVELOPMENT   \n",
            "4       163                        Nigeria  LOW HUMAN DEVELOPMENT   \n",
            "\n",
            "   Human Development Index (HDI)   Life expectancy at birth  \\\n",
            "0                           0.549                   66.2007   \n",
            "1                           0.544                   66.0979   \n",
            "2                           0.539                   61.6194   \n",
            "3                           0.535                   63.1924   \n",
            "4                           0.535                   52.6760   \n",
            "\n",
            "   Expected years of schooling  Mean years of schooling  \\\n",
            "0                     9.221490                 6.372899   \n",
            "1                     8.658350                 4.536330   \n",
            "2                    12.950494                 5.016807   \n",
            "3                     9.700000                 5.554000   \n",
            "4                    10.127584                 7.181074   \n",
            "\n",
            "   Gross national income (GNI) per capita  GNI per capita rank minus HDI rank  \\\n",
            "0                             2664.329096                                   7   \n",
            "1                             4623.705430                                 -19   \n",
            "2                             2166.619062                                  12   \n",
            "3                             2847.500746                                   2   \n",
            "4                             4790.284425                                 -22   \n",
            "\n",
            "   le  \n",
            "0 NaN  \n",
            "1 NaN  \n",
            "2 NaN  \n",
            "3 NaN  \n",
            "4 NaN  \n"
          ]
        }
      ]
    },
    {
      "cell_type": "code",
      "source": [
        "#Primero vamos a limpiarlos por separado antes de integrarlos\n",
        "#así, para cada nivel\n",
        "nivel1= DFs[0]\n",
        "nivel2= DFs[1]\n",
        "nivel3= DFs[2]\n",
        "nivel4= DFs[3]"
      ],
      "metadata": {
        "id": "pWoMsjAWzo7a"
      },
      "execution_count": 25,
      "outputs": []
    },
    {
      "cell_type": "code",
      "source": [
        "#limpiando nivel1\n",
        "#eliminemos primera y segunda fila sin datos\n",
        "nivel1 = nivel1.drop([0,1])\n",
        "#eliminar columnas vacías o con letras al azar (las \"sin nombre\")\n",
        "nivel1 = nivel1.loc[:, ~nivel1.columns.str.contains('^Unnamed')]\n",
        "#para un mejor orden, restablezcamos el índice\n",
        "nivel1.reset_index(drop=True, inplace=True)\n",
        "# Mostrar las columnas después de restablecer el índice\n",
        "print(\"Columnas después de restablecer el índice:\\n\", nivel1.columns)\n",
        "print(\"Datos del DataFrame después de restablecer el índice:\\n\", nivel1.head())"
      ],
      "metadata": {
        "colab": {
          "base_uri": "https://localhost:8080/"
        },
        "id": "UBl55s-p0XGt",
        "outputId": "d1106150-8b03-4f35-e39f-0daabc76dad8"
      },
      "execution_count": 26,
      "outputs": [
        {
          "output_type": "stream",
          "name": "stdout",
          "text": [
            "Columnas después de restablecer el índice:\n",
            " Index(['HDI rank', 'Country', 'Human Development Index (HDI) ',\n",
            "       'Life expectancy at birth', 'Expected years of schooling',\n",
            "       'Mean years of schooling', 'Gross national income (GNI) per capita',\n",
            "       'GNI per capita rank minus HDI rank', 'HDI rank.1'],\n",
            "      dtype='object')\n",
            "Datos del DataFrame después de restablecer el índice:\n",
            "    HDI rank                 Country Human Development Index (HDI)   \\\n",
            "0       1.0             Switzerland                          0.962   \n",
            "1       2.0                  Norway                          0.961   \n",
            "2       3.0                 Iceland                          0.959   \n",
            "3       4.0  Hong Kong, China (SAR)                          0.952   \n",
            "4       5.0               Australia                          0.951   \n",
            "\n",
            "  Life expectancy at birth Expected years of schooling  \\\n",
            "0                  83.9872                   16.500299   \n",
            "1                  83.2339                     18.1852   \n",
            "2                  82.6782                   19.163059   \n",
            "3                  85.4734                    17.27817   \n",
            "4                  84.5265                    21.05459   \n",
            "\n",
            "  Mean years of schooling Gross national income (GNI) per capita  \\\n",
            "0                13.85966                            66933.00454   \n",
            "1                13.00363                            64660.10622   \n",
            "2                13.76717                            55782.04981   \n",
            "3                12.22621                             62606.8454   \n",
            "4                12.72682                            49238.43335   \n",
            "\n",
            "   GNI per capita rank minus HDI rank  HDI rank.1  \n",
            "0                                 5.0         3.0  \n",
            "1                                 6.0         1.0  \n",
            "2                                11.0         2.0  \n",
            "3                                 6.0         4.0  \n",
            "4                                18.0         5.0  \n"
          ]
        }
      ]
    },
    {
      "cell_type": "code",
      "source": [
        "#limpiando nivel2\n",
        "#eliminamos segunda y tercera fila\n",
        "nivel2 = nivel2.drop([1,2])\n",
        "#nuevamente, eliminamos columnas con datos extraños (columnas sin nombre)\n",
        "nivel2 = nivel2.loc[:, ~nivel2.columns.str.contains('^Unnamed')]\n",
        "#para un mejor orden, restablezcamos el índice\n",
        "nivel2.reset_index(drop=True, inplace=True)\n",
        "#mostrar las columnas después de restrablecerlo\n",
        "print(\"Columnas después de restablecer el índice:\\n\", nivel2.columns)\n",
        "print(\"Datos del DataFrame después de restablecer el índice:\\n\", nivel2.head())\n"
      ],
      "metadata": {
        "colab": {
          "base_uri": "https://localhost:8080/"
        },
        "id": "iAdF3pqG4369",
        "outputId": "04a6b1bf-6bce-4d25-b8ea-54fb5daad0dd"
      },
      "execution_count": 27,
      "outputs": [
        {
          "output_type": "stream",
          "name": "stdout",
          "text": [
            "Columnas después de restablecer el índice:\n",
            " Index(['HDI rank', 'Country', 'Human Development Index (HDI) ',\n",
            "       'Life expectancy at birth', 'Expected years of schooling',\n",
            "       'Mean years of schooling', 'Gross national income (GNI) per capita',\n",
            "       'GNI per capita rank minus HDI rank', 'HDI rank.1'],\n",
            "      dtype='object')\n",
            "Datos del DataFrame después de restablecer el índice:\n",
            "    HDI rank              Country  Human Development Index (HDI)   \\\n",
            "0       NaN                  NaN                        2021.000   \n",
            "1      68.0             Bulgaria                           0.795   \n",
            "2      68.0              Grenada                           0.795   \n",
            "3      70.0             Barbados                           0.790   \n",
            "4      71.0  Antigua and Barbuda                           0.788   \n",
            "\n",
            "   Life expectancy at birth  Expected years of schooling  \\\n",
            "0                 2021.0000                  2021.000000   \n",
            "1                   71.7980                    13.897290   \n",
            "2                   74.9362                    18.662020   \n",
            "3                   77.5714                    15.713385   \n",
            "4                   78.4968                    14.184626   \n",
            "\n",
            "   Mean years of schooling  Gross national income (GNI) per capita  \\\n",
            "0              2021.000000                              2021.00000   \n",
            "1                11.413180                             23078.95595   \n",
            "2                 9.032104                             13483.57740   \n",
            "3                 9.852701                             12306.34100   \n",
            "4                 9.293741                             16792.36595   \n",
            "\n",
            "   GNI per capita rank minus HDI rank  HDI rank.1  \n",
            "0                              2021.0      2020.0  \n",
            "1                                -8.0        64.0  \n",
            "2                                18.0        70.0  \n",
            "3                                26.0        71.0  \n",
            "4                                 2.0        71.0  \n"
          ]
        }
      ]
    },
    {
      "cell_type": "code",
      "source": [
        "#limpiando nivel 3\n",
        "#muy similar a nivel 2: eliminamos segunda y tercera fila y eliminamos columnas \"sin nombre\"\n",
        "nivel3 = nivel3.drop([1,2])\n",
        "nivel3 = nivel3.loc[:, ~nivel3.columns.str.contains('^Unnamed')]\n",
        "#restablecer índice\n",
        "nivel3.reset_index(drop=True, inplace=True)\n",
        "#mostrar las columnas después de restrablecerlo\n",
        "print(\"Columnas después de restablecer el índice:\\n\", nivel3.columns)\n",
        "print(\"Datos del DataFrame después de restablecer el índice:\\n\", nivel3.head())\n"
      ],
      "metadata": {
        "colab": {
          "base_uri": "https://localhost:8080/"
        },
        "id": "Z6aM4Y086BmU",
        "outputId": "05dd2740-48c0-4d4d-d00d-7a43af143174"
      },
      "execution_count": 28,
      "outputs": [
        {
          "output_type": "stream",
          "name": "stdout",
          "text": [
            "Columnas después de restablecer el índice:\n",
            " Index(['HDI rank', 'Country', 'Human Development Index (HDI) ',\n",
            "       'Life expectancy at birth', 'Expected years of schooling',\n",
            "       'Mean years of schooling', 'Gross national income (GNI) per capita',\n",
            "       'GNI per capita rank minus HDI rank', 'HDI rank.1'],\n",
            "      dtype='object')\n",
            "Datos del DataFrame después de restablecer el índice:\n",
            "    HDI rank                             Country  \\\n",
            "0       NaN                                 NaN   \n",
            "1     117.0                            Botswana   \n",
            "2     118.0    Bolivia (Plurinational State of)   \n",
            "3     118.0                          Kyrgyzstan   \n",
            "4     120.0  Venezuela (Bolivarian Republic of)   \n",
            "\n",
            "   Human Development Index (HDI)   Life expectancy at birth  \\\n",
            "0                        2021.000                 2021.0000   \n",
            "1                           0.693                   61.1409   \n",
            "2                           0.692                   63.6304   \n",
            "3                           0.692                   69.9774   \n",
            "4                           0.691                   70.5536   \n",
            "\n",
            "   Expected years of schooling  Mean years of schooling  \\\n",
            "0                  2021.000000              2021.000000   \n",
            "1                    12.265138                10.340000   \n",
            "2                    14.946971                 9.827750   \n",
            "3                    13.195300                11.374106   \n",
            "4                    12.816080                11.107277   \n",
            "\n",
            "   Gross national income (GNI) per capita  GNI per capita rank minus HDI rank  \\\n",
            "0                             2021.000000                              2021.0   \n",
            "1                            16198.318410                               -43.0   \n",
            "2                             8111.190194                                 0.0   \n",
            "3                             4566.303831                                26.0   \n",
            "4                             4810.882621                                20.0   \n",
            "\n",
            "   HDI rank.1  \n",
            "0      2020.0  \n",
            "1       110.0  \n",
            "2       119.0  \n",
            "3       121.0  \n",
            "4       118.0  \n"
          ]
        }
      ]
    },
    {
      "cell_type": "code",
      "source": [
        "#Por último, limpiamos nivel 4\n",
        "#primero, eliminamos columnas \"sin nombre\"\n",
        "nivel4 = nivel4.loc[:, ~nivel4.columns.str.contains('^Unnamed')]\n",
        "#eliminamos la última columna con encabezado je\n",
        "nivel4 = nivel4.iloc[:, :-1]\n",
        "#mostrar las columnas después de restrablecerlo\n",
        "print(\"Columnas después de restablecer el índice:\\n\", nivel4.columns)\n",
        "print(\"Datos del DataFrame después de restablecer el índice:\\n\", nivel4.head())\n"
      ],
      "metadata": {
        "colab": {
          "base_uri": "https://localhost:8080/"
        },
        "id": "hey6tGuc6gRs",
        "outputId": "5b16bc5b-79c2-438d-8139-d889e8f81030"
      },
      "execution_count": 29,
      "outputs": [
        {
          "output_type": "stream",
          "name": "stdout",
          "text": [
            "Columnas después de restablecer el índice:\n",
            " Index(['HDI rank', 'Country', 'Human Development Index (HDI) ',\n",
            "       'Life expectancy at birth', 'Expected years of schooling',\n",
            "       'Mean years of schooling', 'Gross national income (GNI) per capita',\n",
            "       'GNI per capita rank minus HDI rank'],\n",
            "      dtype='object')\n",
            "Datos del DataFrame después de restablecer el índice:\n",
            "    HDI rank                        Country  Human Development Index (HDI)   \\\n",
            "0       160  Tanzania (United Republic of)                           0.549   \n",
            "1       161                       Pakistan                           0.544   \n",
            "2       162                           Togo                           0.539   \n",
            "3       163                          Haiti                           0.535   \n",
            "4       163                        Nigeria                           0.535   \n",
            "\n",
            "   Life expectancy at birth  Expected years of schooling  \\\n",
            "0                   66.2007                     9.221490   \n",
            "1                   66.0979                     8.658350   \n",
            "2                   61.6194                    12.950494   \n",
            "3                   63.1924                     9.700000   \n",
            "4                   52.6760                    10.127584   \n",
            "\n",
            "   Mean years of schooling  Gross national income (GNI) per capita  \\\n",
            "0                 6.372899                             2664.329096   \n",
            "1                 4.536330                             4623.705430   \n",
            "2                 5.016807                             2166.619062   \n",
            "3                 5.554000                             2847.500746   \n",
            "4                 7.181074                             4790.284425   \n",
            "\n",
            "   GNI per capita rank minus HDI rank  \n",
            "0                                   7  \n",
            "1                                 -19  \n",
            "2                                  12  \n",
            "3                                   2  \n",
            "4                                 -22  \n"
          ]
        }
      ]
    },
    {
      "cell_type": "code",
      "source": [
        "#Ahora sí, lo integramos\n",
        "DFs=[nivel1,nivel2,nivel3,nivel4]\n",
        "# Concatenar todos los DataFrames en uno solo\n",
        "df_concatenado = pd.concat(DFs, ignore_index=True)\n",
        "\n",
        "# Mostrar los primeros registros del DataFrame concatenado\n",
        "print(\"\\nDatos concatenados:\\n\", df_concatenado.head())\n"
      ],
      "metadata": {
        "colab": {
          "base_uri": "https://localhost:8080/"
        },
        "id": "LC8X4hbQxDdD",
        "outputId": "5768f4e8-4760-4ea2-f073-e936b3571652"
      },
      "execution_count": 31,
      "outputs": [
        {
          "output_type": "stream",
          "name": "stdout",
          "text": [
            "\n",
            "Datos concatenados:\n",
            "    HDI rank                 Country Human Development Index (HDI)   \\\n",
            "0       1.0             Switzerland                          0.962   \n",
            "1       2.0                  Norway                          0.961   \n",
            "2       3.0                 Iceland                          0.959   \n",
            "3       4.0  Hong Kong, China (SAR)                          0.952   \n",
            "4       5.0               Australia                          0.951   \n",
            "\n",
            "  Life expectancy at birth Expected years of schooling  \\\n",
            "0                  83.9872                   16.500299   \n",
            "1                  83.2339                     18.1852   \n",
            "2                  82.6782                   19.163059   \n",
            "3                  85.4734                    17.27817   \n",
            "4                  84.5265                    21.05459   \n",
            "\n",
            "  Mean years of schooling Gross national income (GNI) per capita  \\\n",
            "0                13.85966                            66933.00454   \n",
            "1                13.00363                            64660.10622   \n",
            "2                13.76717                            55782.04981   \n",
            "3                12.22621                             62606.8454   \n",
            "4                12.72682                            49238.43335   \n",
            "\n",
            "   GNI per capita rank minus HDI rank  HDI rank.1  \n",
            "0                                 5.0         3.0  \n",
            "1                                 6.0         1.0  \n",
            "2                                11.0         2.0  \n",
            "3                                 6.0         4.0  \n",
            "4                                18.0         5.0  \n"
          ]
        }
      ]
    },
    {
      "cell_type": "markdown",
      "source": [
        "Cuando haya integrado los archivos anteriores, haga un merge entre ese archivo, y el archivo countryCODES.xlsx.\n",
        "\n"
      ],
      "metadata": {
        "id": "cgCMMLjOFQqm"
      }
    },
    {
      "cell_type": "code",
      "source": [
        "\n",
        "# Cargar el archivo countryCODES.xlsx desde el repositorio\n",
        "Repo = 'https://github.com/CamilaRo12/PC3/raw/main/'\n",
        "country_codes_df = pd.read_excel(Repo + 'countryCODES.xlsx')\n",
        "\n",
        "# Realizar el merge entre el DataFrame integrado y el DataFrame de códigos de países\n",
        "df_final = pd.merge(df_concatenado, country_codes_df, on='Country', how='left') #country es lo que tendrán en común\n",
        "\n",
        "# Mostrar los primeros registros del DataFrame final\n",
        "print(\"\\nDatos después del merge:\\n\", df_final.head())\n"
      ],
      "metadata": {
        "colab": {
          "base_uri": "https://localhost:8080/"
        },
        "id": "LhvxVV187_RM",
        "outputId": "d647f9e7-b0c5-4c50-990a-a01938061d26"
      },
      "execution_count": 43,
      "outputs": [
        {
          "output_type": "stream",
          "name": "stdout",
          "text": [
            "\n",
            "Datos después del merge:\n",
            "    HDI rank                 Country Human Development Index (HDI)   \\\n",
            "0       1.0             Switzerland                          0.962   \n",
            "1       2.0                  Norway                          0.961   \n",
            "2       3.0                 Iceland                          0.959   \n",
            "3       4.0  Hong Kong, China (SAR)                          0.952   \n",
            "4       5.0               Australia                          0.951   \n",
            "\n",
            "  Life expectancy at birth Expected years of schooling  \\\n",
            "0                  83.9872                   16.500299   \n",
            "1                  83.2339                     18.1852   \n",
            "2                  82.6782                   19.163059   \n",
            "3                  85.4734                    17.27817   \n",
            "4                  84.5265                    21.05459   \n",
            "\n",
            "  Mean years of schooling Gross national income (GNI) per capita  \\\n",
            "0                13.85966                            66933.00454   \n",
            "1                13.00363                            64660.10622   \n",
            "2                13.76717                            55782.04981   \n",
            "3                12.22621                             62606.8454   \n",
            "4                12.72682                            49238.43335   \n",
            "\n",
            "   GNI per capita rank minus HDI rank  HDI rank.1 Officialstatename  \\\n",
            "0                                 5.0         3.0               NaN   \n",
            "1                                 6.0         1.0               NaN   \n",
            "2                                11.0         2.0               NaN   \n",
            "3                                 6.0         4.0               NaN   \n",
            "4                                18.0         5.0               NaN   \n",
            "\n",
            "  InternetccTLD iso2 iso3  \n",
            "0           NaN  NaN  NaN  \n",
            "1           NaN  NaN  NaN  \n",
            "2           NaN  NaN  NaN  \n",
            "3           NaN  NaN  NaN  \n",
            "4           NaN  NaN  NaN  \n"
          ]
        }
      ]
    },
    {
      "cell_type": "markdown",
      "source": [
        "Ahora, con los archivos fallecidosCOVID.csv,  haga un reporte mensual de fallecidos. Solo debe mostrar por fila el mes (y año) y cuanto fallecidos hubo en ese mes."
      ],
      "metadata": {
        "id": "IUkIG4V__EzM"
      }
    },
    {
      "cell_type": "code",
      "source": [
        "import pandas as pd\n",
        "\n",
        "# Cargar el archivo fallecidosCOVID.csv desde el repositorio, usando el delimitador\n",
        "Repo = 'https://github.com/CamilaRo12/PC3/raw/main/'\n",
        "fcovid_df = pd.read_csv(Repo + 'fallecidosCOVID.csv', delimiter=';')\n",
        "\n",
        "# Eliminar espacios en blanco de los nombres de columna por precaución\n",
        "fcovid_df.columns = fcovid_df.columns.str.strip()\n",
        "\n",
        "# Mostrar los primeros registros del DataFrame para verificar su estructura\n",
        "print(\"Datos originales:\\n\", fcovid_df.head())\n",
        "print(\"Nombres de columnas:\", fcovid_df.columns)\n"
      ],
      "metadata": {
        "colab": {
          "base_uri": "https://localhost:8080/"
        },
        "id": "KnxYqUTA_Mwe",
        "outputId": "e6fe8a75-0b99-47c3-d35e-eaab094e4783"
      },
      "execution_count": 57,
      "outputs": [
        {
          "output_type": "stream",
          "name": "stdout",
          "text": [
            "Datos originales:\n",
            "    FECHA_CORTE  FECHA_FALLECIMIENTO  EDAD_DECLARADA       SEXO  \\\n",
            "0     20240317             20220219              63  MASCULINO   \n",
            "1     20240317             20210529              74  MASCULINO   \n",
            "2     20240317             20210623              72   FEMENINO   \n",
            "3     20240317             20210824              85  MASCULINO   \n",
            "4     20240317             20210627              46  MASCULINO   \n",
            "\n",
            "                       CLASIFICACION_DEF DEPARTAMENTO PROVINCIA  \\\n",
            "0                    Criterio virológico       TUMBES    TUMBES   \n",
            "1                    Criterio virológico       TUMBES    TUMBES   \n",
            "2                       Criterio SINADEF        TACNA     TACNA   \n",
            "3  Criterio investigación Epidemiológica       TUMBES    TUMBES   \n",
            "4                    Criterio virológico        TACNA     TACNA   \n",
            "\n",
            "             DISTRITO    UBIGEO      UUID  \n",
            "0              TUMBES  240101.0  203506.0  \n",
            "1              TUMBES  240101.0  203532.0  \n",
            "2  ALTO DE LA ALIANZA  230102.0  203584.0  \n",
            "3              TUMBES  240101.0  212541.0  \n",
            "4  ALTO DE LA ALIANZA  230102.0  203665.0  \n",
            "Nombres de columnas: Index(['FECHA_CORTE', 'FECHA_FALLECIMIENTO', 'EDAD_DECLARADA', 'SEXO',\n",
            "       'CLASIFICACION_DEF', 'DEPARTAMENTO', 'PROVINCIA', 'DISTRITO', 'UBIGEO',\n",
            "       'UUID'],\n",
            "      dtype='object')\n"
          ]
        }
      ]
    },
    {
      "cell_type": "code",
      "source": [
        "# Convertir la columna 'FECHA_FALLECIMIENTO' a tipo datetime, especificando el formato\n",
        "fcovid_df['FECHA_FALLECIMIENTO'] = pd.to_datetime(fcovid_df['FECHA_FALLECIMIENTO'], format='%Y%m%d', errors='coerce')\n",
        "\n",
        "# Agrupar por año y mes y sumar los fallecidos\n",
        "reporte_mensual = fcovid_df.resample('ME', on='FECHA_FALLECIMIENTO').size().reset_index(name='fallecidos')\n",
        "\n",
        "# se crea la columna de año y mes\n",
        "reporte_mensual['año y mes'] = reporte_mensual['FECHA_FALLECIMIENTO'].dt.strftime('%Y-%m')\n",
        "\n",
        "# Reorganizar las columnas para mostrar el mes y año\n",
        "reporte_final = reporte_mensual[['año y mes', 'fallecidos']]\n",
        "\n",
        "# Mostrar el reporte final sin los números de fila\n",
        "print(\"\\nReporte mensual de fallecidos:\\n\", reporte_final.to_string(index=False))"
      ],
      "metadata": {
        "colab": {
          "base_uri": "https://localhost:8080/"
        },
        "id": "jvRwEVAaBtuV",
        "outputId": "92f84dac-eae2-493d-eeb3-b6882c8db5ce"
      },
      "execution_count": 63,
      "outputs": [
        {
          "output_type": "stream",
          "name": "stdout",
          "text": [
            "\n",
            "Reporte mensual de fallecidos:\n",
            " año y mes  fallecidos\n",
            "  2020-03         181\n",
            "  2020-04        5134\n",
            "  2020-05       16363\n",
            "  2020-06       17462\n",
            "  2020-07       18501\n",
            "  2020-08       17668\n",
            "  2020-09        8437\n",
            "  2020-10        4471\n",
            "  2020-11        3229\n",
            "  2020-12        3885\n",
            "  2021-01       11175\n",
            "  2021-02       18645\n",
            "  2021-03       20691\n",
            "  2021-04       23110\n",
            "  2021-05       16692\n",
            "  2021-06        7722\n",
            "  2021-07        3481\n",
            "  2021-08        1850\n",
            "  2021-09        1140\n",
            "  2021-10        1066\n",
            "  2021-11        1107\n",
            "  2021-12        1283\n",
            "  2022-01        3562\n",
            "  2022-02        3503\n",
            "  2022-03        1299\n",
            "  2022-04         741\n",
            "  2022-05         625\n",
            "  2022-06         542\n",
            "  2022-07        1025\n",
            "  2022-08        1429\n",
            "  2022-09         892\n",
            "  2022-10         429\n",
            "  2022-11         272\n",
            "  2022-12         423\n",
            "  2023-01         371\n",
            "  2023-02         287\n",
            "  2023-03         295\n",
            "  2023-04         337\n",
            "  2023-05         323\n",
            "  2023-06         291\n",
            "  2023-07         258\n",
            "  2023-08         249\n",
            "  2023-09          60\n",
            "  2023-10          26\n",
            "  2023-11          33\n",
            "  2023-12          40\n",
            "  2024-01         249\n",
            "  2024-02          62\n",
            "  2024-03           2\n"
          ]
        }
      ]
    },
    {
      "cell_type": "markdown",
      "source": [
        "Use el mismo archivo anterior. Esta vez haga un reporte de fallecidos por mes, pero el tipo de muerte debe estar en columnas separadas.\n",
        "\n"
      ],
      "metadata": {
        "id": "ERO5LntJC2zt"
      }
    },
    {
      "cell_type": "code",
      "source": [
        "import pandas as pd\n",
        "\n",
        "# Cargar el archivo fallecidosCOVID.csv desde el repositorio, usando el delimitador\n",
        "Repo = 'https://github.com/CamilaRo12/PC3/raw/main/'\n",
        "fcovid_df = pd.read_csv(Repo + 'fallecidosCOVID.csv', delimiter=';')\n",
        "\n",
        "# Eliminar espacios en blanco de los nombres de las columnas (por si acaso)\n",
        "fcovid_df.columns = fcovid_df.columns.str.strip()\n",
        "\n",
        "# Convertir la columna 'FECHA_FALLECIMIENTO' a tipo datetime, especificando el formato\n",
        "fcovid_df['FECHA_FALLECIMIENTO'] = pd.to_datetime(fcovid_df['FECHA_FALLECIMIENTO'], format='%Y%m%d', errors='coerce')\n",
        "\n",
        "# sacamos el mes y año de la FECHA_FALLECIMIENTO\n",
        "fcovid_df['año'] = fcovid_df['FECHA_FALLECIMIENTO'].dt.year\n",
        "fcovid_df['mes'] = fcovid_df['FECHA_FALLECIMIENTO'].dt.month\n",
        "\n",
        "# contar fallecidos\n",
        "reporte_pivotado = fcovid_df.pivot_table(index=['año', 'mes'],\n",
        "                                          columns='CLASIFICACION_DEF',\n",
        "                                          values='FECHA_FALLECIMIENTO',\n",
        "                                          aggfunc='count',\n",
        "                                          fill_value=0)\n",
        "\n",
        "# Reiniciar el índice para que año y mes estén bien\n",
        "reporte_pivotado.reset_index(inplace=True)\n",
        "\n",
        "# Mostrar el reporte final\n",
        "print(\"\\nReporte de fallecidos por mes y tipo de muerte:\\n\", reporte_pivotado.to_string(index=False))\n"
      ],
      "metadata": {
        "colab": {
          "base_uri": "https://localhost:8080/"
        },
        "id": "pXI7Xe1iC4Aa",
        "outputId": "0940f1a9-59e2-487d-e964-dc9cde5a2065"
      },
      "execution_count": 69,
      "outputs": [
        {
          "output_type": "stream",
          "name": "stdout",
          "text": [
            "\n",
            "Reporte de fallecidos por mes y tipo de muerte:\n",
            "  año  mes  Criterio SINADEF  Criterio clínico  Criterio investigación Epidemiológica  Criterio nexo epidemiológico  Criterio radiológico  Criterio serológico  Criterio virológico  NotiCovid  sinadef\n",
            "2020    3                35                52                                     25                             2                     7                    2                   58          0        0\n",
            "2020    4              1793               541                                    498                            68                   182                  778                 1274          0        0\n",
            "2020    5              6826              1152                                   1427                           203                   480                 3233                 3042          0        0\n",
            "2020    6              5722               670                                   1706                           251                   391                 5605                 3117          0        0\n",
            "2020    7              5012               609                                   1512                           262                   415                 7501                 3190          0        0\n",
            "2020    8              4589               611                                   1456                           208                   534                 7400                 2870          0        0\n",
            "2020    9              1984               475                                    755                           105                   233                 3483                 1402          0        0\n",
            "2020   10              1091               463                                    469                            50                   172                 1417                  809          0        0\n",
            "2020   11               704               462                                    307                            37                   186                  867                  666          0        0\n",
            "2020   12               802               547                                    171                            41                   179                 1047                 1098          0        0\n",
            "2021    1              2190               514                                    323                           107                   434                 2448                 5159          0        0\n",
            "2021    2              4993               501                                    465                           150                   556                 2539                 9441          0        0\n",
            "2021    3              6100               525                                    517                           229                   456                 1703                11161          0        0\n",
            "2021    4              7450               748                                    591                           246                   363                 1488                12224          0        0\n",
            "2021    5              5225               628                                    349                           155                   283                 1175                 8877          0        0\n",
            "2021    6              2723               116                                    123                            51                   138                  746                 3825          0        0\n",
            "2021    7              1025               113                                     67                            35                    68                  521                 1652          0        0\n",
            "2021    8               578                75                                     22                            15                    36                  287                  837          0        0\n",
            "2021    9               554                12                                      0                             0                     0                  190                  384          0        0\n",
            "2021   10               469                12                                      0                             0                     0                  148                  437          0        0\n",
            "2021   11               441                16                                      0                             0                     0                  157                  493          0        0\n",
            "2021   12               585                 8                                      0                             0                     0                  133                  557          0        0\n",
            "2022    1              1894                22                                      0                             0                     0                   41                 1605          0        0\n",
            "2022    2              1604                20                                      0                             0                     0                    1                 1878          0        0\n",
            "2022    3               352                 6                                      0                             0                     0                    0                  941          0        0\n",
            "2022    4               131                 9                                      0                             0                     0                    0                  601          0        0\n",
            "2022    5                85                 3                                      0                             0                     0                    0                  537          0        0\n",
            "2022    6                81                 3                                      0                             0                     0                    0                  458          0        0\n",
            "2022    7               299                 3                                      0                             0                     0                    0                  723          0        0\n",
            "2022    8               405                 6                                      0                             0                     0                    0                 1018          0        0\n",
            "2022    9               154                12                                      0                             0                     0                    0                  726          0        0\n",
            "2022   10                53                59                                      0                             0                     0                    0                  317          0        0\n",
            "2022   11                23                 0                                      0                             0                     0                    0                  249          0        0\n",
            "2022   12                66                 0                                      0                             0                     0                    0                  357          0        0\n",
            "2023    1                34                 1                                      0                             0                     0                    0                  336          0        0\n",
            "2023    2                 4                 0                                      0                             0                     0                    0                  283          0        0\n",
            "2023    3                 6                 0                                      0                             0                     0                    0                  289          0        0\n",
            "2023    4                17                 0                                      0                             0                     0                    0                  320          0        0\n",
            "2023    5                 6                 0                                      0                             0                     0                    0                  317          0        0\n",
            "2023    6                 2                 0                                      0                             0                     0                    0                  289          0        0\n",
            "2023    7                 3                 0                                      0                             0                     0                    0                  255          0        0\n",
            "2023    8                 7                 0                                      0                             0                     0                    0                  242          0        0\n",
            "2023    9                 7                 0                                      0                             0                     0                    0                   53          0        0\n",
            "2023   10                 8                 0                                      0                             0                     0                    0                   18          0        0\n",
            "2023   11                13                 0                                      0                             0                     0                    0                   20          0        0\n",
            "2023   12                17                 0                                      0                             0                     0                    0                   22          1        0\n",
            "2024    1                35                 0                                      0                             0                     0                    0                   83        115       16\n",
            "2024    2                 1                 0                                      0                             0                     0                    0                   45         16        0\n",
            "2024    3                 0                 0                                      0                             0                     0                    0                    2          0        0\n"
          ]
        }
      ]
    },
    {
      "cell_type": "code",
      "source": [
        "#En el enunciado pide mes, así que también agrego el resultado solo con mes\n",
        "# Eliminar la columna 'año'\n",
        "reporte_final = reporte_pivotado.drop(columns=['año'])\n",
        "print(\"\\nReporte de fallecidos por mes y tipo de muerte:\\n\", reporte_final.to_string(index=False))"
      ],
      "metadata": {
        "colab": {
          "base_uri": "https://localhost:8080/"
        },
        "id": "L931ak3MEyCz",
        "outputId": "f406a351-7aef-4c01-d08b-ff8921c9623f"
      },
      "execution_count": 70,
      "outputs": [
        {
          "output_type": "stream",
          "name": "stdout",
          "text": [
            "\n",
            "Reporte de fallecidos por mes y tipo de muerte:\n",
            "  mes  Criterio SINADEF  Criterio clínico  Criterio investigación Epidemiológica  Criterio nexo epidemiológico  Criterio radiológico  Criterio serológico  Criterio virológico  NotiCovid  sinadef\n",
            "   3                35                52                                     25                             2                     7                    2                   58          0        0\n",
            "   4              1793               541                                    498                            68                   182                  778                 1274          0        0\n",
            "   5              6826              1152                                   1427                           203                   480                 3233                 3042          0        0\n",
            "   6              5722               670                                   1706                           251                   391                 5605                 3117          0        0\n",
            "   7              5012               609                                   1512                           262                   415                 7501                 3190          0        0\n",
            "   8              4589               611                                   1456                           208                   534                 7400                 2870          0        0\n",
            "   9              1984               475                                    755                           105                   233                 3483                 1402          0        0\n",
            "  10              1091               463                                    469                            50                   172                 1417                  809          0        0\n",
            "  11               704               462                                    307                            37                   186                  867                  666          0        0\n",
            "  12               802               547                                    171                            41                   179                 1047                 1098          0        0\n",
            "   1              2190               514                                    323                           107                   434                 2448                 5159          0        0\n",
            "   2              4993               501                                    465                           150                   556                 2539                 9441          0        0\n",
            "   3              6100               525                                    517                           229                   456                 1703                11161          0        0\n",
            "   4              7450               748                                    591                           246                   363                 1488                12224          0        0\n",
            "   5              5225               628                                    349                           155                   283                 1175                 8877          0        0\n",
            "   6              2723               116                                    123                            51                   138                  746                 3825          0        0\n",
            "   7              1025               113                                     67                            35                    68                  521                 1652          0        0\n",
            "   8               578                75                                     22                            15                    36                  287                  837          0        0\n",
            "   9               554                12                                      0                             0                     0                  190                  384          0        0\n",
            "  10               469                12                                      0                             0                     0                  148                  437          0        0\n",
            "  11               441                16                                      0                             0                     0                  157                  493          0        0\n",
            "  12               585                 8                                      0                             0                     0                  133                  557          0        0\n",
            "   1              1894                22                                      0                             0                     0                   41                 1605          0        0\n",
            "   2              1604                20                                      0                             0                     0                    1                 1878          0        0\n",
            "   3               352                 6                                      0                             0                     0                    0                  941          0        0\n",
            "   4               131                 9                                      0                             0                     0                    0                  601          0        0\n",
            "   5                85                 3                                      0                             0                     0                    0                  537          0        0\n",
            "   6                81                 3                                      0                             0                     0                    0                  458          0        0\n",
            "   7               299                 3                                      0                             0                     0                    0                  723          0        0\n",
            "   8               405                 6                                      0                             0                     0                    0                 1018          0        0\n",
            "   9               154                12                                      0                             0                     0                    0                  726          0        0\n",
            "  10                53                59                                      0                             0                     0                    0                  317          0        0\n",
            "  11                23                 0                                      0                             0                     0                    0                  249          0        0\n",
            "  12                66                 0                                      0                             0                     0                    0                  357          0        0\n",
            "   1                34                 1                                      0                             0                     0                    0                  336          0        0\n",
            "   2                 4                 0                                      0                             0                     0                    0                  283          0        0\n",
            "   3                 6                 0                                      0                             0                     0                    0                  289          0        0\n",
            "   4                17                 0                                      0                             0                     0                    0                  320          0        0\n",
            "   5                 6                 0                                      0                             0                     0                    0                  317          0        0\n",
            "   6                 2                 0                                      0                             0                     0                    0                  289          0        0\n",
            "   7                 3                 0                                      0                             0                     0                    0                  255          0        0\n",
            "   8                 7                 0                                      0                             0                     0                    0                  242          0        0\n",
            "   9                 7                 0                                      0                             0                     0                    0                   53          0        0\n",
            "  10                 8                 0                                      0                             0                     0                    0                   18          0        0\n",
            "  11                13                 0                                      0                             0                     0                    0                   20          0        0\n",
            "  12                17                 0                                      0                             0                     0                    0                   22          1        0\n",
            "   1                35                 0                                      0                             0                     0                    0                   83        115       16\n",
            "   2                 1                 0                                      0                             0                     0                    0                   45         16        0\n",
            "   3                 0                 0                                      0                             0                     0                    0                    2          0        0\n"
          ]
        }
      ]
    }
  ]
}